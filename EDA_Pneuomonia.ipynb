{
 "cells": [
  {
   "cell_type": "markdown",
   "id": "d624c4b8",
   "metadata": {},
   "source": [
    "# Exploratory Data Analysis Notebook"
   ]
  },
  {
   "cell_type": "markdown",
   "id": "b2f7cb05",
   "metadata": {},
   "source": [
    "## What is Pneuomonia?\n",
    "\n",
    "- Pneumonia is an infection that <b>inflames air sacs</b> in one or both lungs, which may fill with fluid.\n",
    "- With pneumonia, the <b>air sacs may fill with fluid or pus.</b> \n",
    "- The infection can be <b>life-threatening</b> to anyone, but particularly to infants, children and people over 65."
   ]
  },
  {
   "cell_type": "markdown",
   "id": "cc7a90e9",
   "metadata": {},
   "source": [
    "## What Exactly are we Predicting?\n",
    "\n",
    "- The objective is to build an algorithm that can <b>detect visual signals for pneumonia</b> in medical images. \n",
    "- We do so by <b>predicting bounding boxes</b> around areas of the lung. \n",
    "- Samples <b>without</b> bounding boxes are <b>negative</b> and contain no definitive evidence of pneumonia. \n",
    "- Samples <b>with</b> bounding boxes <b>indicate evidence of pneumonia</b>."
   ]
  },
  {
   "cell_type": "markdown",
   "id": "20648d29",
   "metadata": {},
   "source": [
    "## Format of Data\n",
    "\n",
    "- <b><i>patientId_</i></b>- A patientId. Each patientId corresponds to a unique image.\n",
    "- <b><i>x_</i></b> - the upper-left x coordinate of the bounding box.\n",
    "- <b><i>y_</i></b> - the upper-left y coordinate of the bounding box.\n",
    "- <b><i>width_</i></b> - the width of the bounding box.\n",
    "- <b><i>height_</i></b> - the height of the bounding box.\n",
    "- <b><i>Target_</i></b> - the binary Target, indicating whether this sample has evidence of pneumonia. (1 = true, 0 = false)"
   ]
  },
  {
   "cell_type": "markdown",
   "id": "0a2982ba",
   "metadata": {},
   "source": [
    "## Notes\n",
    "\n",
    "- A pneumonia opacity is a part of the lungs that looks darker on a radiograph and has a shape that indicates that pneumonia is (or may be) present.\n",
    "- Since the goal is to detect & then draw a bounding box on each pneumonia opacities (where each image can have 0 or many), and the training set is already classified:\n",
    "    - It can be analysed as a supervised learning statistical multilabel classification\n",
    "\n",
    "\n",
    "##### Classification Algorithms that can adapt to multi-label classification\n",
    "\n",
    "- Boosting\n",
    "- K nearest neighbours\n",
    "- Decision Trees\n",
    "- Kernel Methods\n",
    "- Neural Networks"
   ]
  },
  {
   "cell_type": "code",
   "execution_count": 3,
   "id": "1bd24e4f",
   "metadata": {},
   "outputs": [],
   "source": [
    "# Imports\n",
    "import numpy as np \n",
    "import pandas as pd \n",
    "import matplotlib.pylab as plt\n",
    "import pydicom\n",
    "\n",
    "import os\n",
    "from os import listdir\n",
    "from os.path import isfile, join"
   ]
  },
  {
   "cell_type": "code",
   "execution_count": 14,
   "id": "c8893c24",
   "metadata": {},
   "outputs": [],
   "source": [
    "pathLabels = \"/Users/Bozinovski/Desktop/UNSW/21t2/COMP9417/Project/Data/stage_2_train_labels.csv\"\n",
    "classInfo = \"/Users/Bozinovski/Desktop/UNSW/21t2/COMP9417/Project/Data/stage_2_detailed_class_info.csv\"\n",
    "\n",
    "labels = pd.read_csv(pathLabels)\n",
    "classInfo = pd.read_csv(classInfo)"
   ]
  },
  {
   "cell_type": "markdown",
   "id": "4ff3ceba",
   "metadata": {},
   "source": [
    "### Lets merge the classInfo & labels"
   ]
  },
  {
   "cell_type": "code",
   "execution_count": 32,
   "id": "a6184de9",
   "metadata": {},
   "outputs": [
    {
     "data": {
      "text/html": [
       "<div>\n",
       "<style scoped>\n",
       "    .dataframe tbody tr th:only-of-type {\n",
       "        vertical-align: middle;\n",
       "    }\n",
       "\n",
       "    .dataframe tbody tr th {\n",
       "        vertical-align: top;\n",
       "    }\n",
       "\n",
       "    .dataframe thead th {\n",
       "        text-align: right;\n",
       "    }\n",
       "</style>\n",
       "<table border=\"1\" class=\"dataframe\">\n",
       "  <thead>\n",
       "    <tr style=\"text-align: right;\">\n",
       "      <th></th>\n",
       "      <th>patientId</th>\n",
       "      <th>class</th>\n",
       "      <th>x</th>\n",
       "      <th>y</th>\n",
       "      <th>width</th>\n",
       "      <th>height</th>\n",
       "      <th>Target</th>\n",
       "    </tr>\n",
       "  </thead>\n",
       "  <tbody>\n",
       "    <tr>\n",
       "      <th>0</th>\n",
       "      <td>0004cfab-14fd-4e49-80ba-63a80b6bddd6</td>\n",
       "      <td>No Lung Opacity / Not Normal</td>\n",
       "      <td>NaN</td>\n",
       "      <td>NaN</td>\n",
       "      <td>NaN</td>\n",
       "      <td>NaN</td>\n",
       "      <td>0</td>\n",
       "    </tr>\n",
       "    <tr>\n",
       "      <th>1</th>\n",
       "      <td>00313ee0-9eaa-42f4-b0ab-c148ed3241cd</td>\n",
       "      <td>No Lung Opacity / Not Normal</td>\n",
       "      <td>NaN</td>\n",
       "      <td>NaN</td>\n",
       "      <td>NaN</td>\n",
       "      <td>NaN</td>\n",
       "      <td>0</td>\n",
       "    </tr>\n",
       "    <tr>\n",
       "      <th>2</th>\n",
       "      <td>00322d4d-1c29-4943-afc9-b6754be640eb</td>\n",
       "      <td>No Lung Opacity / Not Normal</td>\n",
       "      <td>NaN</td>\n",
       "      <td>NaN</td>\n",
       "      <td>NaN</td>\n",
       "      <td>NaN</td>\n",
       "      <td>0</td>\n",
       "    </tr>\n",
       "    <tr>\n",
       "      <th>3</th>\n",
       "      <td>003d8fa0-6bf1-40ed-b54c-ac657f8495c5</td>\n",
       "      <td>Normal</td>\n",
       "      <td>NaN</td>\n",
       "      <td>NaN</td>\n",
       "      <td>NaN</td>\n",
       "      <td>NaN</td>\n",
       "      <td>0</td>\n",
       "    </tr>\n",
       "    <tr>\n",
       "      <th>4</th>\n",
       "      <td>00436515-870c-4b36-a041-de91049b9ab4</td>\n",
       "      <td>Lung Opacity</td>\n",
       "      <td>264.0</td>\n",
       "      <td>152.0</td>\n",
       "      <td>213.0</td>\n",
       "      <td>379.0</td>\n",
       "      <td>1</td>\n",
       "    </tr>\n",
       "  </tbody>\n",
       "</table>\n",
       "</div>"
      ],
      "text/plain": [
       "                              patientId                         class      x  \\\n",
       "0  0004cfab-14fd-4e49-80ba-63a80b6bddd6  No Lung Opacity / Not Normal    NaN   \n",
       "1  00313ee0-9eaa-42f4-b0ab-c148ed3241cd  No Lung Opacity / Not Normal    NaN   \n",
       "2  00322d4d-1c29-4943-afc9-b6754be640eb  No Lung Opacity / Not Normal    NaN   \n",
       "3  003d8fa0-6bf1-40ed-b54c-ac657f8495c5                        Normal    NaN   \n",
       "4  00436515-870c-4b36-a041-de91049b9ab4                  Lung Opacity  264.0   \n",
       "\n",
       "       y  width  height  Target  \n",
       "0    NaN    NaN     NaN       0  \n",
       "1    NaN    NaN     NaN       0  \n",
       "2    NaN    NaN     NaN       0  \n",
       "3    NaN    NaN     NaN       0  \n",
       "4  152.0  213.0   379.0       1  "
      ]
     },
     "execution_count": 32,
     "metadata": {},
     "output_type": "execute_result"
    }
   ],
   "source": [
    "merged = pd.merge(left = classInfo, right = labels, how = 'left', on = 'patientId') # Merge\n",
    "merged = merged.drop_duplicates() # Remove duplicates\n",
    "\n",
    "merged.head()"
   ]
  },
  {
   "cell_type": "code",
   "execution_count": 39,
   "id": "2acb57bc",
   "metadata": {},
   "outputs": [
    {
     "name": "stdout",
     "output_type": "stream",
     "text": [
      "Number of unique patients: patientId    26684\n",
      "class            3\n",
      "x              748\n",
      "y              726\n",
      "width          351\n",
      "height         725\n",
      "Target           2\n",
      "dtype: int64\n"
     ]
    }
   ],
   "source": [
    "# Shape\n",
    "print(f\"Number of unique patients: {merged.nunique()}\")"
   ]
  },
  {
   "cell_type": "code",
   "execution_count": 35,
   "id": "9c563ff5",
   "metadata": {},
   "outputs": [
    {
     "data": {
      "text/plain": [
       "0    20672\n",
       "1     9555\n",
       "Name: Target, dtype: int64"
      ]
     },
     "execution_count": 35,
     "metadata": {},
     "output_type": "execute_result"
    }
   ],
   "source": [
    "merged['Target'].value_counts()"
   ]
  },
  {
   "cell_type": "markdown",
   "id": "06b49fb3",
   "metadata": {},
   "source": [
    "###### We can see that over 20,000 people are classified as not having pneumonia, whereas around 10,000 people do"
   ]
  },
  {
   "cell_type": "code",
   "execution_count": 36,
   "id": "826cd960",
   "metadata": {},
   "outputs": [
    {
     "data": {
      "image/png": "[encoded data removed]",
      "text/plain": [
       "<Figure size 640x480 with 1 Axes>"
      ]
     },
     "metadata": {},
     "output_type": "display_data"
    }
   ],
   "source": [
    "# See how many people with pneumonia vs non-pneumonia\n",
    "merged['Target'].hist();"
   ]
  },
  {
   "cell_type": "code",
   "execution_count": 38,
   "id": "87482300",
   "metadata": {},
   "outputs": [
    {
     "data": {
      "image/png": "[encoded data removed]",
      "text/plain": [
       "<Figure size 640x480 with 1 Axes>"
      ]
     },
     "metadata": {},
     "output_type": "display_data"
    }
   ],
   "source": [
    "# Look at the amounts in each of the different classes\n",
    "merged['class'].hist();"
   ]
  },
  {
   "cell_type": "markdown",
   "id": "28bd1106",
   "metadata": {},
   "source": [
    "###### It seems that the amount is spread evenly between the 3 classes"
   ]
  },
  {
   "cell_type": "markdown",
   "id": "bbc853ef",
   "metadata": {},
   "source": [
    "### Check out pneumonia classifying boxes"
   ]
  },
  {
   "cell_type": "code",
   "execution_count": 56,
   "id": "e46fce55",
   "metadata": {},
   "outputs": [],
   "source": [
    "boxNums = merged.dropna()[['x', 'y', 'width', 'height']].copy() # Make a copy of just the boxes\n",
    "\n",
    "# Calculate x2 & y2 coordinates\n",
    "boxNums['x2'] = boxNums['x'] + boxNums['width']\n",
    "boxNums['y2'] = boxNums['y'] + boxNums['height']\n",
    "\n",
    "# Calculate x2 & y2 centres\n",
    "boxNums['xCentre'] = boxNums['x'] + boxNums['width']/2\n",
    "boxNums['yCentre'] = boxNums['y'] + boxNums['height']/2\n",
    "\n",
    "# Calculate area of the box\n",
    "boxNums['boxArea'] = boxNums['width'] * boxNums['height']"
   ]
  },
  {
   "cell_type": "code",
   "execution_count": 55,
   "id": "cd6bc8de",
   "metadata": {},
   "outputs": [
    {
     "data": {
      "text/html": [
       "<div>\n",
       "<style scoped>\n",
       "    .dataframe tbody tr th:only-of-type {\n",
       "        vertical-align: middle;\n",
       "    }\n",
       "\n",
       "    .dataframe tbody tr th {\n",
       "        vertical-align: top;\n",
       "    }\n",
       "\n",
       "    .dataframe thead th {\n",
       "        text-align: right;\n",
       "    }\n",
       "</style>\n",
       "<table border=\"1\" class=\"dataframe\">\n",
       "  <thead>\n",
       "    <tr style=\"text-align: right;\">\n",
       "      <th></th>\n",
       "      <th>x</th>\n",
       "      <th>y</th>\n",
       "      <th>width</th>\n",
       "      <th>height</th>\n",
       "      <th>x2</th>\n",
       "      <th>y2</th>\n",
       "      <th>xCentre</th>\n",
       "      <th>yCentre</th>\n",
       "      <th>boxArea</th>\n",
       "    </tr>\n",
       "  </thead>\n",
       "  <tbody>\n",
       "    <tr>\n",
       "      <th>4</th>\n",
       "      <td>264.0</td>\n",
       "      <td>152.0</td>\n",
       "      <td>213.0</td>\n",
       "      <td>379.0</td>\n",
       "      <td>477.0</td>\n",
       "      <td>531.0</td>\n",
       "      <td>370.5</td>\n",
       "      <td>341.5</td>\n",
       "      <td>80727.0</td>\n",
       "    </tr>\n",
       "    <tr>\n",
       "      <th>5</th>\n",
       "      <td>562.0</td>\n",
       "      <td>152.0</td>\n",
       "      <td>256.0</td>\n",
       "      <td>453.0</td>\n",
       "      <td>818.0</td>\n",
       "      <td>605.0</td>\n",
       "      <td>690.0</td>\n",
       "      <td>378.5</td>\n",
       "      <td>115968.0</td>\n",
       "    </tr>\n",
       "    <tr>\n",
       "      <th>10</th>\n",
       "      <td>323.0</td>\n",
       "      <td>577.0</td>\n",
       "      <td>160.0</td>\n",
       "      <td>104.0</td>\n",
       "      <td>483.0</td>\n",
       "      <td>681.0</td>\n",
       "      <td>403.0</td>\n",
       "      <td>629.0</td>\n",
       "      <td>16640.0</td>\n",
       "    </tr>\n",
       "    <tr>\n",
       "      <th>11</th>\n",
       "      <td>695.0</td>\n",
       "      <td>575.0</td>\n",
       "      <td>162.0</td>\n",
       "      <td>137.0</td>\n",
       "      <td>857.0</td>\n",
       "      <td>712.0</td>\n",
       "      <td>776.0</td>\n",
       "      <td>643.5</td>\n",
       "      <td>22194.0</td>\n",
       "    </tr>\n",
       "    <tr>\n",
       "      <th>18</th>\n",
       "      <td>288.0</td>\n",
       "      <td>322.0</td>\n",
       "      <td>94.0</td>\n",
       "      <td>135.0</td>\n",
       "      <td>382.0</td>\n",
       "      <td>457.0</td>\n",
       "      <td>335.0</td>\n",
       "      <td>389.5</td>\n",
       "      <td>12690.0</td>\n",
       "    </tr>\n",
       "  </tbody>\n",
       "</table>\n",
       "</div>"
      ],
      "text/plain": [
       "        x      y  width  height     x2     y2  xCentre  yCentre   boxArea\n",
       "4   264.0  152.0  213.0   379.0  477.0  531.0    370.5    341.5   80727.0\n",
       "5   562.0  152.0  256.0   453.0  818.0  605.0    690.0    378.5  115968.0\n",
       "10  323.0  577.0  160.0   104.0  483.0  681.0    403.0    629.0   16640.0\n",
       "11  695.0  575.0  162.0   137.0  857.0  712.0    776.0    643.5   22194.0\n",
       "18  288.0  322.0   94.0   135.0  382.0  457.0    335.0    389.5   12690.0"
      ]
     },
     "execution_count": 55,
     "metadata": {},
     "output_type": "execute_result"
    }
   ],
   "source": [
    "boxNums.head()"
   ]
  },
  {
   "cell_type": "code",
   "execution_count": 40,
   "id": "398bc89a",
   "metadata": {},
   "outputs": [],
   "source": [
    "trainImagesPath = '/Users/Bozinovski/Desktop/UNSW/21t2/COMP9417/Project/Data/stage_2_train_images/'"
   ]
  },
  {
   "cell_type": "code",
   "execution_count": null,
   "id": "68b32c8e",
   "metadata": {},
   "outputs": [],
   "source": []
  }
 ],
 "metadata": {
  "kernelspec": {
   "display_name": "Python 3",
   "language": "python",
   "name": "python3"
  },
  "language_info": {
   "codemirror_mode": {
    "name": "ipython",
    "version": 3
   },
   "file_extension": ".py",
   "mimetype": "text/x-python",
   "name": "python",
   "nbconvert_exporter": "python",
   "pygments_lexer": "ipython3",
   "version": "3.8.8"
  }
 },
 "nbformat": 4,
 "nbformat_minor": 5
}
