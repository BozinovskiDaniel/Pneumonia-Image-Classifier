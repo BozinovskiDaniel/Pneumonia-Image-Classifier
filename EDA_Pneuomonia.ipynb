{
 "cells": [
  {
   "cell_type": "markdown",
   "id": "d624c4b8",
   "metadata": {},
   "source": [
    "# Exploratory Data Analysis Notebook"
   ]
  },
  {
   "cell_type": "markdown",
   "id": "b2f7cb05",
   "metadata": {},
   "source": [
    "## What is Pneuomonia?\n",
    "\n",
    "- Pneumonia is an infection that <b>inflames air sacs</b> in one or both lungs, which may fill with fluid.\n",
    "- With pneumonia, the <b>air sacs may fill with fluid or pus.</b> \n",
    "- The infection can be <b>life-threatening</b> to anyone, but particularly to infants, children and people over 65."
   ]
  },
  {
   "cell_type": "markdown",
   "id": "cc7a90e9",
   "metadata": {},
   "source": [
    "## What Exactly are we Predicting?\n",
    "\n",
    "- The objective is to build an algorithm that can <b>detect visual signals for pneumonia</b> in medical images. \n",
    "- We do so by <b>predicting bounding boxes</b> around areas of the lung. \n",
    "- Samples <b>without</b> bounding boxes are <b>negative</b> and contain no definitive evidence of pneumonia. \n",
    "- Samples <b>with</b> bounding boxes <b>indicate evidence of pneumonia</b>."
   ]
  },
  {
   "cell_type": "markdown",
   "id": "20648d29",
   "metadata": {},
   "source": [
    "## Format of Data\n",
    "\n",
    "- <b><i>patientId_</i></b>- A patientId. Each patientId corresponds to a unique image.\n",
    "- <b><i>x_</i></b> - the upper-left x coordinate of the bounding box.\n",
    "- <b><i>y_</i></b> - the upper-left y coordinate of the bounding box.\n",
    "- <b><i>width_</i></b> - the width of the bounding box.\n",
    "- <b><i>height_</i></b> - the height of the bounding box.\n",
    "- <b><i>Target_</i></b> - the binary Target, indicating whether this sample has evidence of pneumonia. (1 = true, 0 = false)"
   ]
  },
  {
   "cell_type": "markdown",
   "id": "0a2982ba",
   "metadata": {},
   "source": [
    "## Notes\n",
    "\n",
    "- A pneumonia opacity is a part of the lungs that looks darker on a radiograph and has a shape that indicates that pneumonia is (or may be) present.\n",
    "- Since the goal is to detect & then draw a bounding box on each pneumonia opacities (where each image can have 0 or many), and the training set is already classified:\n",
    "    - It can be analysed as a supervised learning statistical multilabel classification\n",
    "\n",
    "\n",
    "##### Classification Algorithms that can adapt to multi-label classification\n",
    "\n",
    "- Boosting\n",
    "- K nearest neighbours\n",
    "- Decision Trees\n",
    "- Kernel Methods\n",
    "- Neural Networks"
   ]
  },
  {
   "cell_type": "code",
   "execution_count": 1,
   "id": "1bd24e4f",
   "metadata": {},
   "outputs": [],
   "source": [
    "# Imports\n",
    "import numpy as np \n",
    "import pandas as pd \n",
    "import matplotlib.pylab as plt\n",
    "import seaborn as sns\n",
    "import pydicom\n",
    "import pylab as pl\n",
    "%matplotlib inline\n",
    "\n",
    "import os\n",
    "from os import listdir\n",
    "from os.path import isfile, join"
   ]
  },
  {
   "cell_type": "code",
   "execution_count": 2,
   "id": "c8893c24",
   "metadata": {},
   "outputs": [],
   "source": [
    "pathLabels = \"/Users/Bozinovski/Desktop/UNSW/21t2/COMP9417/Project/Data/stage_2_train_labels.csv\"\n",
    "classInfo = \"/Users/Bozinovski/Desktop/UNSW/21t2/COMP9417/Project/Data/stage_2_detailed_class_info.csv\"\n",
    "\n",
    "labels = pd.read_csv(pathLabels)\n",
    "classInfo = pd.read_csv(classInfo)"
   ]
  },
  {
   "cell_type": "markdown",
   "id": "168e6358",
   "metadata": {},
   "source": [
    "### Lets merge the classInfo & labels"
   ]
  },
  {
   "cell_type": "code",
   "execution_count": 3,
   "id": "28e4a9cf",
   "metadata": {},
   "outputs": [
    {
     "data": {
      "text/html": [
       "<div>\n",
       "<style scoped>\n",
       "    .dataframe tbody tr th:only-of-type {\n",
       "        vertical-align: middle;\n",
       "    }\n",
       "\n",
       "    .dataframe tbody tr th {\n",
       "        vertical-align: top;\n",
       "    }\n",
       "\n",
       "    .dataframe thead th {\n",
       "        text-align: right;\n",
       "    }\n",
       "</style>\n",
       "<table border=\"1\" class=\"dataframe\">\n",
       "  <thead>\n",
       "    <tr style=\"text-align: right;\">\n",
       "      <th></th>\n",
       "      <th>patientId</th>\n",
       "      <th>class</th>\n",
       "      <th>x</th>\n",
       "      <th>y</th>\n",
       "      <th>width</th>\n",
       "      <th>height</th>\n",
       "      <th>Target</th>\n",
       "    </tr>\n",
       "  </thead>\n",
       "  <tbody>\n",
       "    <tr>\n",
       "      <th>0</th>\n",
       "      <td>0004cfab-14fd-4e49-80ba-63a80b6bddd6</td>\n",
       "      <td>No Lung Opacity / Not Normal</td>\n",
       "      <td>NaN</td>\n",
       "      <td>NaN</td>\n",
       "      <td>NaN</td>\n",
       "      <td>NaN</td>\n",
       "      <td>0</td>\n",
       "    </tr>\n",
       "    <tr>\n",
       "      <th>1</th>\n",
       "      <td>00313ee0-9eaa-42f4-b0ab-c148ed3241cd</td>\n",
       "      <td>No Lung Opacity / Not Normal</td>\n",
       "      <td>NaN</td>\n",
       "      <td>NaN</td>\n",
       "      <td>NaN</td>\n",
       "      <td>NaN</td>\n",
       "      <td>0</td>\n",
       "    </tr>\n",
       "    <tr>\n",
       "      <th>2</th>\n",
       "      <td>00322d4d-1c29-4943-afc9-b6754be640eb</td>\n",
       "      <td>No Lung Opacity / Not Normal</td>\n",
       "      <td>NaN</td>\n",
       "      <td>NaN</td>\n",
       "      <td>NaN</td>\n",
       "      <td>NaN</td>\n",
       "      <td>0</td>\n",
       "    </tr>\n",
       "    <tr>\n",
       "      <th>3</th>\n",
       "      <td>003d8fa0-6bf1-40ed-b54c-ac657f8495c5</td>\n",
       "      <td>Normal</td>\n",
       "      <td>NaN</td>\n",
       "      <td>NaN</td>\n",
       "      <td>NaN</td>\n",
       "      <td>NaN</td>\n",
       "      <td>0</td>\n",
       "    </tr>\n",
       "    <tr>\n",
       "      <th>4</th>\n",
       "      <td>00436515-870c-4b36-a041-de91049b9ab4</td>\n",
       "      <td>Lung Opacity</td>\n",
       "      <td>264.0</td>\n",
       "      <td>152.0</td>\n",
       "      <td>213.0</td>\n",
       "      <td>379.0</td>\n",
       "      <td>1</td>\n",
       "    </tr>\n",
       "  </tbody>\n",
       "</table>\n",
       "</div>"
      ],
      "text/plain": [
       "                              patientId                         class      x  \\\n",
       "0  0004cfab-14fd-4e49-80ba-63a80b6bddd6  No Lung Opacity / Not Normal    NaN   \n",
       "1  00313ee0-9eaa-42f4-b0ab-c148ed3241cd  No Lung Opacity / Not Normal    NaN   \n",
       "2  00322d4d-1c29-4943-afc9-b6754be640eb  No Lung Opacity / Not Normal    NaN   \n",
       "3  003d8fa0-6bf1-40ed-b54c-ac657f8495c5                        Normal    NaN   \n",
       "4  00436515-870c-4b36-a041-de91049b9ab4                  Lung Opacity  264.0   \n",
       "\n",
       "       y  width  height  Target  \n",
       "0    NaN    NaN     NaN       0  \n",
       "1    NaN    NaN     NaN       0  \n",
       "2    NaN    NaN     NaN       0  \n",
       "3    NaN    NaN     NaN       0  \n",
       "4  152.0  213.0   379.0       1  "
      ]
     },
     "execution_count": 3,
     "metadata": {},
     "output_type": "execute_result"
    }
   ],
   "source": [
    "merged = pd.merge(left = classInfo, right = labels, how = 'left', on = 'patientId') # Merge\n",
    "merged = merged.drop_duplicates() # Remove duplicates\n",
    "\n",
    "merged.head()"
   ]
  },
  {
   "cell_type": "code",
   "execution_count": 4,
   "id": "2acb57bc",
   "metadata": {},
   "outputs": [
    {
     "name": "stdout",
     "output_type": "stream",
     "text": [
      "Unique features: \n",
      "patientId    26684\n",
      "class            3\n",
      "x              748\n",
      "y              726\n",
      "width          351\n",
      "height         725\n",
      "Target           2\n",
      "dtype: int64\n"
     ]
    }
   ],
   "source": [
    "# How many unique features?\n",
    "print(f\"Unique features: \\n{merged.nunique()}\")"
   ]
  },
  {
   "cell_type": "code",
   "execution_count": 5,
   "id": "698d7c97",
   "metadata": {},
   "outputs": [
    {
     "name": "stdout",
     "output_type": "stream",
     "text": [
      "How many people have pneumonia vs do not: \n",
      "0    20672\n",
      "1     9555\n",
      "Name: Target, dtype: int64\n",
      "\n",
      "This is roughly 31.61% having pneumonia within this training data\n"
     ]
    }
   ],
   "source": [
    "neg, pos = merged[\"Target\"].value_counts()\n",
    "\n",
    "print(f'How many people have pneumonia vs do not: \\n{merged[\"Target\"].value_counts()}\\n')\n",
    "\n",
    "print(f'This is roughly {round(pos/(pos+neg)*100, 2)}% having pneumonia within this training data')"
   ]
  },
  {
   "cell_type": "markdown",
   "id": "ddeb8d21",
   "metadata": {},
   "source": [
    "###### We can see that over 20,000 people are classified as not having pneumonia, whereas around 10,000 people do"
   ]
  },
  {
   "cell_type": "code",
   "execution_count": 6,
   "id": "826cd960",
   "metadata": {},
   "outputs": [
    {
     "data": {
      "image/png": "[encoded data removed]",
      "text/plain": [
       "<Figure size 432x288 with 1 Axes>"
      ]
     },
     "metadata": {
      "needs_background": "light"
     },
     "output_type": "display_data"
    }
   ],
   "source": [
    "# See how many people with pneumonia vs non-pneumonia\n",
    "merged['Target'].hist();"
   ]
  },
  {
   "cell_type": "code",
   "execution_count": 7,
   "id": "6e2c9b97",
   "metadata": {},
   "outputs": [
    {
     "data": {
      "image/png": "[encoded data removed]",
      "text/plain": [
       "<Figure size 432x288 with 1 Axes>"
      ]
     },
     "metadata": {
      "needs_background": "light"
     },
     "output_type": "display_data"
    }
   ],
   "source": [
    "# Look at the amounts in each of the different classes\n",
    "merged['class'].hist();"
   ]
  },
  {
   "cell_type": "markdown",
   "id": "448c6685",
   "metadata": {},
   "source": [
    "###### It seems that the amount is spread evenly between the 3 classes\n",
    "###### with roughly 2/3s being either classified as Normal or no lung opacity/not normal"
   ]
  },
  {
   "cell_type": "markdown",
   "id": "8b85e7ce",
   "metadata": {},
   "source": [
    "# Some Numerical Analysis"
   ]
  },
  {
   "cell_type": "markdown",
   "id": "9b0e0b06",
   "metadata": {},
   "source": [
    "### Check out pneumonia classifying boxes"
   ]
  },
  {
   "cell_type": "code",
   "execution_count": 8,
   "id": "0f9090e2",
   "metadata": {},
   "outputs": [],
   "source": [
    "boxNums = merged.dropna()[['x', 'y', 'width', 'height']].copy() # Make a copy of just the boxes\n",
    "\n",
    "# Calculate x2 & y2 coordinates\n",
    "boxNums['x2'] = boxNums['x'] + boxNums['width']\n",
    "boxNums['y2'] = boxNums['y'] + boxNums['height']\n",
    "\n",
    "# Calculate x2 & y2 centres\n",
    "boxNums['xCentre'] = boxNums['x'] + boxNums['width']/2\n",
    "boxNums['yCentre'] = boxNums['y'] + boxNums['height']/2\n",
    "\n",
    "# Calculate area of the box\n",
    "boxNums['boxArea'] = boxNums['width'] * boxNums['height']"
   ]
  },
  {
   "cell_type": "code",
   "execution_count": 9,
   "id": "ba82843e",
   "metadata": {},
   "outputs": [
    {
     "data": {
      "text/html": [
       "<div>\n",
       "<style scoped>\n",
       "    .dataframe tbody tr th:only-of-type {\n",
       "        vertical-align: middle;\n",
       "    }\n",
       "\n",
       "    .dataframe tbody tr th {\n",
       "        vertical-align: top;\n",
       "    }\n",
       "\n",
       "    .dataframe thead th {\n",
       "        text-align: right;\n",
       "    }\n",
       "</style>\n",
       "<table border=\"1\" class=\"dataframe\">\n",
       "  <thead>\n",
       "    <tr style=\"text-align: right;\">\n",
       "      <th></th>\n",
       "      <th>x</th>\n",
       "      <th>y</th>\n",
       "      <th>width</th>\n",
       "      <th>height</th>\n",
       "      <th>x2</th>\n",
       "      <th>y2</th>\n",
       "      <th>xCentre</th>\n",
       "      <th>yCentre</th>\n",
       "      <th>boxArea</th>\n",
       "    </tr>\n",
       "  </thead>\n",
       "  <tbody>\n",
       "    <tr>\n",
       "      <th>4</th>\n",
       "      <td>264.0</td>\n",
       "      <td>152.0</td>\n",
       "      <td>213.0</td>\n",
       "      <td>379.0</td>\n",
       "      <td>477.0</td>\n",
       "      <td>531.0</td>\n",
       "      <td>370.5</td>\n",
       "      <td>341.5</td>\n",
       "      <td>80727.0</td>\n",
       "    </tr>\n",
       "    <tr>\n",
       "      <th>5</th>\n",
       "      <td>562.0</td>\n",
       "      <td>152.0</td>\n",
       "      <td>256.0</td>\n",
       "      <td>453.0</td>\n",
       "      <td>818.0</td>\n",
       "      <td>605.0</td>\n",
       "      <td>690.0</td>\n",
       "      <td>378.5</td>\n",
       "      <td>115968.0</td>\n",
       "    </tr>\n",
       "    <tr>\n",
       "      <th>10</th>\n",
       "      <td>323.0</td>\n",
       "      <td>577.0</td>\n",
       "      <td>160.0</td>\n",
       "      <td>104.0</td>\n",
       "      <td>483.0</td>\n",
       "      <td>681.0</td>\n",
       "      <td>403.0</td>\n",
       "      <td>629.0</td>\n",
       "      <td>16640.0</td>\n",
       "    </tr>\n",
       "    <tr>\n",
       "      <th>11</th>\n",
       "      <td>695.0</td>\n",
       "      <td>575.0</td>\n",
       "      <td>162.0</td>\n",
       "      <td>137.0</td>\n",
       "      <td>857.0</td>\n",
       "      <td>712.0</td>\n",
       "      <td>776.0</td>\n",
       "      <td>643.5</td>\n",
       "      <td>22194.0</td>\n",
       "    </tr>\n",
       "    <tr>\n",
       "      <th>18</th>\n",
       "      <td>288.0</td>\n",
       "      <td>322.0</td>\n",
       "      <td>94.0</td>\n",
       "      <td>135.0</td>\n",
       "      <td>382.0</td>\n",
       "      <td>457.0</td>\n",
       "      <td>335.0</td>\n",
       "      <td>389.5</td>\n",
       "      <td>12690.0</td>\n",
       "    </tr>\n",
       "  </tbody>\n",
       "</table>\n",
       "</div>"
      ],
      "text/plain": [
       "        x      y  width  height     x2     y2  xCentre  yCentre   boxArea\n",
       "4   264.0  152.0  213.0   379.0  477.0  531.0    370.5    341.5   80727.0\n",
       "5   562.0  152.0  256.0   453.0  818.0  605.0    690.0    378.5  115968.0\n",
       "10  323.0  577.0  160.0   104.0  483.0  681.0    403.0    629.0   16640.0\n",
       "11  695.0  575.0  162.0   137.0  857.0  712.0    776.0    643.5   22194.0\n",
       "18  288.0  322.0   94.0   135.0  382.0  457.0    335.0    389.5   12690.0"
      ]
     },
     "execution_count": 9,
     "metadata": {},
     "output_type": "execute_result"
    }
   ],
   "source": [
    "boxNums.head()"
   ]
  },
  {
   "cell_type": "code",
   "execution_count": 10,
   "id": "2d28b9d1",
   "metadata": {},
   "outputs": [
    {
     "data": {
      "image/png": "[encoded data removed]",
      "text/plain": [
       "<Figure size 720x720 with 4 Axes>"
      ]
     },
     "metadata": {
      "needs_background": "light"
     },
     "output_type": "display_data"
    }
   ],
   "source": [
    "# Look at the correlations between x, y, x2, y2, width, height and the centres\n",
    "\n",
    "pairs = [(boxNums['x'], boxNums['y']), (boxNums['x2'], boxNums['y2']), (boxNums['width'], boxNums['height']), \n",
    "         (boxNums['xCentre'], boxNums['yCentre'])]\n",
    "\n",
    "axis = [(0, 0), (0, 1), (1, 0), (1,1)]\n",
    "\n",
    "fig, axs = plt.subplots(2, 2, figsize=(10, 10))\n",
    "\n",
    "for i in range(4):\n",
    "    axs[axis[i][0], axis[i][1]].hist2d(pairs[i][0], pairs[i][1], bins=30)\n",
    "\n",
    "# Set titles\n",
    "axs[0,0].set_title('X vs Y')\n",
    "axs[0,1].set_title('X2 vs Y2')\n",
    "axs[1,0].set_title('Width vs Height')\n",
    "axs[1,1].set_title('X Centre vs Y Centre')\n",
    "\n",
    "plt.show()    "
   ]
  },
  {
   "cell_type": "markdown",
   "id": "681d84d3",
   "metadata": {},
   "source": [
    "###### Taking a look at the heatmap, we can see that the centres seems to have more density for x, x2 and y, y2"
   ]
  },
  {
   "cell_type": "code",
   "execution_count": 11,
   "id": "f8deca11",
   "metadata": {},
   "outputs": [
    {
     "data": {
      "text/plain": [
       "patientId    00436515-870c-4b36-a041-de91049b9ab4\n",
       "class                                Lung Opacity\n",
       "x                                           264.0\n",
       "y                                           152.0\n",
       "width                                       213.0\n",
       "height                                      379.0\n",
       "Target                                          1\n",
       "Name: 4, dtype: object"
      ]
     },
     "execution_count": 11,
     "metadata": {},
     "output_type": "execute_result"
    }
   ],
   "source": [
    "merged.iloc[4]"
   ]
  },
  {
   "cell_type": "markdown",
   "id": "8fde67a5",
   "metadata": {},
   "source": [
    "###### Important Note: A given patientId may have multiple boxes if more than one area of pneumonia is detected (see below for example images)."
   ]
  },
  {
   "cell_type": "markdown",
   "id": "984ab141",
   "metadata": {},
   "source": [
    "### A brief overview of DICOM files\n",
    "\n",
    "- Medical images are stored in a special format known as DICOM\n",
    "- They contain a combination of both meta data and pixel data\n",
    "- We use a python library called pydicom to access these image files\n",
    "\n",
    "<br>\n",
    "\n",
    "To use pydicom:\n",
    "1. Find the dicom file for a given patientID\n",
    "2. Then use pydicom.read_file()"
   ]
  },
  {
   "cell_type": "code",
   "execution_count": 32,
   "id": "ab6d7399",
   "metadata": {},
   "outputs": [
    {
     "data": {
      "text/plain": [
       "[('0004cfab-14fd-4e49-80ba-63a80b6bddd6', \"Doesn't Have Pneumonia\"),\n",
       " ('00436515-870c-4b36-a041-de91049b9ab4', 'Has Pneumonia')]"
      ]
     },
     "execution_count": 32,
     "metadata": {},
     "output_type": "execute_result"
    }
   ],
   "source": [
    "# Get two patients (one who has pneumonia & one who doesnt)\n",
    "patient0 = merged['patientId'][0] # Doesn't have pneumonia\n",
    "patient1 = merged['patientId'][4] # Has pneumonia\n",
    "\n",
    "patients = [(patient0, \"Doesn't Have Pneumonia\"), (patient1, \"Has Pneumonia\")]\n",
    "patients"
   ]
  },
  {
   "cell_type": "code",
   "execution_count": 33,
   "id": "5a42a57c",
   "metadata": {},
   "outputs": [
    {
     "data": {
      "image/png": "[encoded data removed]",
      "text/plain": [
       "<Figure size 504x504 with 2 Axes>"
      ]
     },
     "metadata": {
      "needs_background": "light"
     },
     "output_type": "display_data"
    }
   ],
   "source": [
    "# Plot the images side by side for visual comparison\n",
    "imgsPath = \"/Users/Bozinovski/Desktop/UNSW/21t2/COMP9417/Project/Data/stage_2_train_images/\"\n",
    "fig, ax = plt.subplots(1, 2, figsize=(7,7))\n",
    "\n",
    "for i in range(2):\n",
    "    \n",
    "    patientID, title = patients[i][0], patients[i][1] # Extract patient data\n",
    "    \n",
    "    dcmFile = f\"{imgsPath}{patientID}.dcm\" # Get path\n",
    "    dcmData = pydicom.read_file(dcmFile) # Read file\n",
    "    \n",
    "    img = dcmData.pixel_array # Get the pixel array\n",
    "    \n",
    "    ax[i].imshow(img, cmap=pl.cm.gist_gray) # Plot\n",
    "    ax[i].set_title(title) # Set title\n",
    "    ax[i].axis('off') # Remove axis"
   ]
  },
  {
   "cell_type": "markdown",
   "id": "93b9d6b6",
   "metadata": {},
   "source": [
    "###### We can see that the patient with pneumonia appears to have a much less opaque scan"
   ]
  },
  {
   "cell_type": "code",
   "execution_count": 166,
   "id": "58cbfc89",
   "metadata": {},
   "outputs": [
    {
     "data": {
      "text/html": [
       "<div>\n",
       "<style scoped>\n",
       "    .dataframe tbody tr th:only-of-type {\n",
       "        vertical-align: middle;\n",
       "    }\n",
       "\n",
       "    .dataframe tbody tr th {\n",
       "        vertical-align: top;\n",
       "    }\n",
       "\n",
       "    .dataframe thead th {\n",
       "        text-align: right;\n",
       "    }\n",
       "</style>\n",
       "<table border=\"1\" class=\"dataframe\">\n",
       "  <thead>\n",
       "    <tr style=\"text-align: right;\">\n",
       "      <th></th>\n",
       "      <th>patientId</th>\n",
       "      <th>class</th>\n",
       "      <th>x</th>\n",
       "      <th>y</th>\n",
       "      <th>width</th>\n",
       "      <th>height</th>\n",
       "      <th>Target</th>\n",
       "    </tr>\n",
       "  </thead>\n",
       "  <tbody>\n",
       "    <tr>\n",
       "      <th>4</th>\n",
       "      <td>00436515-870c-4b36-a041-de91049b9ab4</td>\n",
       "      <td>Lung Opacity</td>\n",
       "      <td>264.0</td>\n",
       "      <td>152.0</td>\n",
       "      <td>213.0</td>\n",
       "      <td>379.0</td>\n",
       "      <td>1</td>\n",
       "    </tr>\n",
       "    <tr>\n",
       "      <th>5</th>\n",
       "      <td>00436515-870c-4b36-a041-de91049b9ab4</td>\n",
       "      <td>Lung Opacity</td>\n",
       "      <td>562.0</td>\n",
       "      <td>152.0</td>\n",
       "      <td>256.0</td>\n",
       "      <td>453.0</td>\n",
       "      <td>1</td>\n",
       "    </tr>\n",
       "  </tbody>\n",
       "</table>\n",
       "</div>"
      ],
      "text/plain": [
       "                              patientId         class      x      y  width  \\\n",
       "4  00436515-870c-4b36-a041-de91049b9ab4  Lung Opacity  264.0  152.0  213.0   \n",
       "5  00436515-870c-4b36-a041-de91049b9ab4  Lung Opacity  562.0  152.0  256.0   \n",
       "\n",
       "   height  Target  \n",
       "4   379.0       1  \n",
       "5   453.0       1  "
      ]
     },
     "execution_count": 166,
     "metadata": {},
     "output_type": "execute_result"
    }
   ],
   "source": [
    "p = merged.loc[merged['patientId'] == patient1]\n",
    "p"
   ]
  },
  {
   "cell_type": "markdown",
   "id": "8d553038",
   "metadata": {},
   "source": [
    "###### We can see that this particular patient (patient #5) has pneumonia, and has 2 entries, with 2 different boxes"
   ]
  },
  {
   "cell_type": "markdown",
   "id": "acebf9b7",
   "metadata": {},
   "source": [
    "### We want to create a Data parser to group a patients boxes with its image"
   ]
  },
  {
   "cell_type": "code",
   "execution_count": 34,
   "id": "69fcb467",
   "metadata": {},
   "outputs": [],
   "source": [
    "def parseData(df):\n",
    "\n",
    "    newData = {}\n",
    "    \n",
    "    for n, row in df.iterrows():\n",
    "        \n",
    "        patientID = row['patientId'] # Initialise patient\n",
    "        \n",
    "        # If patient is not in the dict, add them\n",
    "        if patientID not in newData:\n",
    "            newData[patientID] = {\n",
    "                'dicom': f\"{imgsPath}{patientID}.dcm\",\n",
    "                'classifier': row['Target'],\n",
    "                'boxes': []}\n",
    "\n",
    "        # Add box if the patient has pneumonia\n",
    "        if newData[patientID]['classifier'] == 1:\n",
    "            newData[patientID]['boxes'].append([row['x'], row['y'], row['width'], row['height']])\n",
    "\n",
    "    return newData"
   ]
  },
  {
   "cell_type": "code",
   "execution_count": 35,
   "id": "bc967fc1",
   "metadata": {},
   "outputs": [
    {
     "data": {
      "text/plain": [
       "{'dicom': '/Users/Bozinovski/Desktop/UNSW/21t2/COMP9417/Project/Data/stage_2_train_images/00436515-870c-4b36-a041-de91049b9ab4.dcm',\n",
       " 'classifier': 1,\n",
       " 'boxes': [[264.0, 152.0, 213.0, 379.0], [562.0, 152.0, 256.0, 453.0]]}"
      ]
     },
     "execution_count": 35,
     "metadata": {},
     "output_type": "execute_result"
    }
   ],
   "source": [
    "parsedData = parseData(merged)\n",
    "\n",
    "# Check patient 1 which we know has pneumonia\n",
    "parsedData[patient1]"
   ]
  },
  {
   "cell_type": "markdown",
   "id": "4cfe7183",
   "metadata": {},
   "source": [
    "###### We can see that we have saved the file path, the classifier and the array of boxes for that person\n",
    "\n",
    "###### Now check someone we know that doesnt have pneumonia"
   ]
  },
  {
   "cell_type": "code",
   "execution_count": 37,
   "id": "8c99b90f",
   "metadata": {},
   "outputs": [
    {
     "data": {
      "text/plain": [
       "{'dicom': '/Users/Bozinovski/Desktop/UNSW/21t2/COMP9417/Project/Data/stage_2_train_images/0004cfab-14fd-4e49-80ba-63a80b6bddd6.dcm',\n",
       " 'classifier': 0,\n",
       " 'boxes': []}"
      ]
     },
     "execution_count": 37,
     "metadata": {},
     "output_type": "execute_result"
    }
   ],
   "source": [
    "parsedData[merged['patientId'][0]]"
   ]
  },
  {
   "cell_type": "markdown",
   "id": "e15b681f",
   "metadata": {},
   "source": [
    "###### Create a function that allows us to draw the boxes over the images"
   ]
  },
  {
   "cell_type": "code",
   "execution_count": 38,
   "id": "bd98a685",
   "metadata": {},
   "outputs": [],
   "source": [
    "\"\"\"\n",
    "Credit for @peterchang77 on kaggle for these 2 functions\n",
    "\"\"\"\n",
    "\n",
    "# This function will allow us to overlay a box\n",
    "def overlayBox(im, box, rgb, stroke=1):\n",
    "\n",
    "    # --- Convert coordinates to integers\n",
    "    box = [int(b) for b in box]\n",
    "    \n",
    "    # --- Extract coordinates\n",
    "    x, y, width, height = box\n",
    "    y2 = y + height\n",
    "    x2 = x + width\n",
    "\n",
    "    im[y:y + stroke, x:x2] = rgb\n",
    "    im[y2:y2 + stroke, x:x2] = rgb\n",
    "    im[y:y2, x:x + stroke] = rgb\n",
    "    im[y:y2, x2:x2 + stroke] = rgb\n",
    "\n",
    "    return im\n",
    "\n",
    "def drawBox(data):\n",
    "    \n",
    "    d = pydicom.read_file(data['dicom']) # Open and read the file\n",
    "    im = d.pixel_array\n",
    "\n",
    "    # Convert to 3 RGB\n",
    "    im = np.stack([im] * 3, axis=2)\n",
    "\n",
    "    # Add the boxes with random colours\n",
    "    for box in data['boxes']:\n",
    "        \n",
    "        rgb = np.floor(np.random.rand(3) * 256).astype('int') # Get rgb\n",
    "        \n",
    "        im = overlayBox(im=im, box=box, rgb=rgb, stroke=6) # Overlay the box\n",
    "\n",
    "    pl.imshow(im, cmap=pl.cm.gist_gray) # Show the image\n",
    "    pl.axis('off') # Remove axis\n"
   ]
  },
  {
   "cell_type": "code",
   "execution_count": 46,
   "id": "70b9332c",
   "metadata": {},
   "outputs": [
    {
     "data": {
      "image/png": "[encoded data removed]",
      "text/plain": [
       "<Figure size 432x288 with 1 Axes>"
      ]
     },
     "metadata": {
      "needs_background": "light"
     },
     "output_type": "display_data"
    }
   ],
   "source": [
    "drawBox(parsedData[patient1])"
   ]
  },
  {
   "cell_type": "markdown",
   "id": "6669aaa1",
   "metadata": {},
   "source": [
    "###### We can see the dark opacities in the image were boxed, indicating the pnemonia"
   ]
  },
  {
   "cell_type": "code",
   "execution_count": null,
   "id": "852d5368",
   "metadata": {},
   "outputs": [],
   "source": []
  }
 ],
 "metadata": {
  "kernelspec": {
   "display_name": "Python 3",
   "language": "python",
   "name": "python3"
  },
  "language_info": {
   "codemirror_mode": {
    "name": "ipython",
    "version": 3
   },
   "file_extension": ".py",
   "mimetype": "text/x-python",
   "name": "python",
   "nbconvert_exporter": "python",
   "pygments_lexer": "ipython3",
   "version": "3.8.8"
  }
 },
 "nbformat": 4,
 "nbformat_minor": 5
}
