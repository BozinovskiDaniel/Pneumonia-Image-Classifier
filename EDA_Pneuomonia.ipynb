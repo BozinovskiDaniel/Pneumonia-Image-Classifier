{
 "cells": [
  {
   "cell_type": "markdown",
   "id": "05007125",
   "metadata": {},
   "source": [
    "# Exploratory Data Analysis Notebook"
   ]
  },
  {
   "cell_type": "markdown",
   "id": "f1e0d039",
   "metadata": {},
   "source": [
    "## What is Pneuomonia?\n",
    "\n",
    "- Pneumonia is an infection that <b>inflames air sacs</b> in one or both lungs, which may fill with fluid.\n",
    "- With pneumonia, the <b>air sacs may fill with fluid or pus.</b> \n",
    "- The infection can be <b>life-threatening</b> to anyone, but particularly to infants, children and people over 65."
   ]
  },
  {
   "cell_type": "markdown",
   "id": "4f638881",
   "metadata": {},
   "source": [
    "## What Exactly are we Predicting?\n",
    "\n",
    "- In this challenge, we are predicting whether pneumonia exists in a given image. \n",
    "- We do so by <b>predicting bounding boxes</b> around areas of the lung. \n",
    "- Samples <b>without</b> bounding boxes are <b>negative</b> and contain no definitive evidence of pneumonia. \n",
    "- Samples <b>with</b> bounding boxes <b>indicate evidence of pneumonia</b>."
   ]
  },
  {
   "cell_type": "markdown",
   "id": "d85ae8d1",
   "metadata": {},
   "source": [
    "## Format of Data\n",
    "\n",
    "- <b><i>patientId_</i></b>- A patientId. Each patientId corresponds to a unique image.\n",
    "- <b><i>x_</i></b> - the upper-left x coordinate of the bounding box.\n",
    "- <b><i>y_</i></b> - the upper-left y coordinate of the bounding box.\n",
    "- <b><i>width_</i></b> - the width of the bounding box.\n",
    "- <b><i>height_</i></b> - the height of the bounding box.\n",
    "- <b><i>Target_</i></b> - the binary Target, indicating whether this sample has evidence of pneumonia. (1 = true, 0 = false)"
   ]
  },
  {
   "cell_type": "code",
   "execution_count": null,
   "id": "d003dbee",
   "metadata": {},
   "outputs": [],
   "source": []
  },
  {
   "cell_type": "code",
   "execution_count": null,
   "id": "b5bc97e3",
   "metadata": {},
   "outputs": [],
   "source": []
  }
 ],
 "metadata": {
  "kernelspec": {
   "display_name": "Python 3",
   "language": "python",
   "name": "python3"
  },
  "language_info": {
   "codemirror_mode": {
    "name": "ipython",
    "version": 3
   },
   "file_extension": ".py",
   "mimetype": "text/x-python",
   "name": "python",
   "nbconvert_exporter": "python",
   "pygments_lexer": "ipython3",
   "version": "3.8.8"
  }
 },
 "nbformat": 4,
 "nbformat_minor": 5
}
