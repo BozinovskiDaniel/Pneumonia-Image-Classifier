{
 "cells": [
  {
   "cell_type": "markdown",
   "id": "fc460e6c",
   "metadata": {},
   "source": [
    "# Exploratory Data Analysis Notebook"
   ]
  },
  {
   "cell_type": "markdown",
   "id": "90868e01",
   "metadata": {},
   "source": [
    "## Guideline:\n",
    "\n",
    "### Step 1: Gather the Data [x]\n",
    "\n",
    "- We've attained the training and testing data from Kaggle\n",
    "\n",
    "### Step 2: Clean the Data [ ]\n",
    "\n",
    "###### Checklist for Cleaning Data:\n",
    "\n",
    "1. Remove any non alphanumeric characters [ ]\n",
    "2. Tokenize question by separating into individual words [ ]\n",
    "3. Remove irrelevant words, such as “@” twitter mentions or urls [ ]\n",
    "4. Convert all characters to lowercase [ ]\n",
    "5. Consider combining alternately spelled words to a single representation (e.g. “cool”/”kewl”/”cooool”) [ ]\n",
    "6. Consider lemmatization (reduce words such as “am”, “are”, and “is” to a common form such as “be”) [ ]\n",
    "\n",
    "### Step 3: Perform Some Type of Feature Engineering [ ]\n",
    "\n",
    "- Add some potentially important meta-features to our training data\n",
    "- Some potential features could include:\n",
    "\n",
    "1. Number of total words\n",
    "2. Number of numbers\n",
    "3. Number of unique words\n",
    "4. Number of capital letters\n",
    "5. Number of stop words (Words that given us very little information i.e: \"the\", \"is\", \"in\", etc)\n",
    "6. Length of question id\n",
    "7. Average word length in question\n",
    "\n",
    "### Step 4: Classification [ ]\n",
    "\n",
    "- Here is where we split our train and test data up to create models for prediction and attain an accuracy\n",
    "- Most of the time, we want to begin with more basic models and progress to more complex ones as required\n",
    "\n",
    "More simple models could include:\n",
    "<b>\n",
    "- Logistic Regression\n",
    "- Gaussian Naive Bayes\n",
    "- Decision Tree Classifiers\n",
    "</b>\n",
    "\n",
    "More complex models could include:\n",
    "<b>\n",
    "- Some type of Recurrent Neural Network\n",
    "- Light Gradient Boosting Machine (LGBM)\n",
    "</b>\n",
    "\n",
    "\n",
    "### Step 5: Inspection [ ]\n",
    "\n",
    "- In this step, we try to explain and interpret our models that we've created from the previous step\n",
    "- We could potentially set up a <b>confusion matrix</b> in an attempt to understand the various types of errors that our models are making\n",
    "\n",
    "<hr>\n",
    "\n",
    "## What is defined as an insincere question?\n",
    "\n",
    "* Has a non-neutral tone\n",
    "    * Has an exaggerated tone to underscore a point about a group of people\n",
    "    * Is rhetorical and meant to imply a statement about a group of people\n",
    "    \n",
    "* Is disparaging or inflammatory\n",
    "    * Suggests a discriminatory idea against a protected class of people, or seeks confirmation of a stereotype\n",
    "    * Makes disparaging attacks/insults against a specific person or group of people\n",
    "    * Based on an outlandish premise about a group of people\n",
    "    * Disparages against a characteristic that is not fixable and not measurable\n",
    "\n",
    "* Isn't grounded in reality\n",
    "    * Based on false information, or contains absurd assumptions    \n",
    "\n",
    "* Uses sexual content (incest, bestiality, pedophilia) for shock value, and not to seek genuine answers\n",
    "\n",
    "<hr>\n",
    "\n",
    "## Columns:\n",
    "\n",
    "1. <b><i>qid:</i></b> This is a specifics questions unique identifier\n",
    "2. <b><i>question_text:</i></b> This is the Quora question itself\n",
    "3. <b><i>target:</i></b> This is our binary prediction variable (0 - sincere, 1 - insincere)\n",
    "\n",
    "<hr>\n",
    "\n",
    "## Model Evaluation Metric for this Dataset\n",
    "\n",
    "<b><i>F1-Score</i></b>: Harmonic mean of recall and precision.\n"
   ]
  },
  {
   "cell_type": "code",
   "execution_count": 53,
   "id": "19e91ad5",
   "metadata": {},
   "outputs": [],
   "source": [
    "# Imports\n",
    "%matplotlib inline\n",
    "import numpy as np\n",
    "import pandas as pd\n",
    "import matplotlib.pyplot as plt\n",
    "import seaborn as sns"
   ]
  },
  {
   "cell_type": "code",
   "execution_count": 54,
   "id": "d98f3d6d",
   "metadata": {},
   "outputs": [],
   "source": [
    "trainPath = \"/Users/Bozinovski/Desktop/UNSW/21t2/COMP9417/Project/Data/train.csv\" # Change path\n",
    "testPath= \"/Users/Bozinovski/Desktop/UNSW/21t2/COMP9417/Project/Data/test.csv\"\n",
    "\n",
    "df_train = pd.read_csv(trainPath) # Load in Training Data\n",
    "df_test = pd.read_csv(testPath) # Load in Training Data"
   ]
  },
  {
   "cell_type": "code",
   "execution_count": 55,
   "id": "35e0e2e4",
   "metadata": {},
   "outputs": [
    {
     "data": {
      "text/html": [
       "<div>\n",
       "<style scoped>\n",
       "    .dataframe tbody tr th:only-of-type {\n",
       "        vertical-align: middle;\n",
       "    }\n",
       "\n",
       "    .dataframe tbody tr th {\n",
       "        vertical-align: top;\n",
       "    }\n",
       "\n",
       "    .dataframe thead th {\n",
       "        text-align: right;\n",
       "    }\n",
       "</style>\n",
       "<table border=\"1\" class=\"dataframe\">\n",
       "  <thead>\n",
       "    <tr style=\"text-align: right;\">\n",
       "      <th></th>\n",
       "      <th>qid</th>\n",
       "      <th>question_text</th>\n",
       "      <th>target</th>\n",
       "    </tr>\n",
       "  </thead>\n",
       "  <tbody>\n",
       "    <tr>\n",
       "      <th>0</th>\n",
       "      <td>00002165364db923c7e6</td>\n",
       "      <td>How did Quebec nationalists see their province...</td>\n",
       "      <td>0</td>\n",
       "    </tr>\n",
       "    <tr>\n",
       "      <th>1</th>\n",
       "      <td>000032939017120e6e44</td>\n",
       "      <td>Do you have an adopted dog, how would you enco...</td>\n",
       "      <td>0</td>\n",
       "    </tr>\n",
       "    <tr>\n",
       "      <th>2</th>\n",
       "      <td>0000412ca6e4628ce2cf</td>\n",
       "      <td>Why does velocity affect time? Does velocity a...</td>\n",
       "      <td>0</td>\n",
       "    </tr>\n",
       "    <tr>\n",
       "      <th>3</th>\n",
       "      <td>000042bf85aa498cd78e</td>\n",
       "      <td>How did Otto von Guericke used the Magdeburg h...</td>\n",
       "      <td>0</td>\n",
       "    </tr>\n",
       "    <tr>\n",
       "      <th>4</th>\n",
       "      <td>0000455dfa3e01eae3af</td>\n",
       "      <td>Can I convert montra helicon D to a mountain b...</td>\n",
       "      <td>0</td>\n",
       "    </tr>\n",
       "  </tbody>\n",
       "</table>\n",
       "</div>"
      ],
      "text/plain": [
       "                    qid                                      question_text  \\\n",
       "0  00002165364db923c7e6  How did Quebec nationalists see their province...   \n",
       "1  000032939017120e6e44  Do you have an adopted dog, how would you enco...   \n",
       "2  0000412ca6e4628ce2cf  Why does velocity affect time? Does velocity a...   \n",
       "3  000042bf85aa498cd78e  How did Otto von Guericke used the Magdeburg h...   \n",
       "4  0000455dfa3e01eae3af  Can I convert montra helicon D to a mountain b...   \n",
       "\n",
       "   target  \n",
       "0       0  \n",
       "1       0  \n",
       "2       0  \n",
       "3       0  \n",
       "4       0  "
      ]
     },
     "execution_count": 55,
     "metadata": {},
     "output_type": "execute_result"
    }
   ],
   "source": [
    "df_train.head() # Show first 5"
   ]
  },
  {
   "cell_type": "code",
   "execution_count": 56,
   "id": "ddca2750",
   "metadata": {},
   "outputs": [],
   "source": [
    "# Split into x and y\n",
    "X_train = df_train.drop(columns=[\"target\"])\n",
    "Y_train = df_train[\"target\"]"
   ]
  },
  {
   "cell_type": "code",
   "execution_count": 57,
   "id": "8031a403",
   "metadata": {},
   "outputs": [
    {
     "name": "stdout",
     "output_type": "stream",
     "text": [
      "Train: (1306122, 3)\n",
      "Test: (375806, 2)\n"
     ]
    }
   ],
   "source": [
    "# Take a look at the shapes of the test and training data\n",
    "print(f\"Train: {df_train.shape}\")\n",
    "print(f\"Test: {df_test.shape}\")"
   ]
  },
  {
   "cell_type": "code",
   "execution_count": 58,
   "id": "b87f2b68",
   "metadata": {},
   "outputs": [
    {
     "name": "stdout",
     "output_type": "stream",
     "text": [
      "Approximately 6.19% of the training questions are insincere.\n"
     ]
    }
   ],
   "source": [
    "# Check % of insincere\n",
    "numOfSincere, numOfInsincere = df_train['target'].value_counts()\n",
    "\n",
    "print(f\"Approximately {round(numOfInsincere/(numOfSincere+numOfInsincere)*100, 2)}% of the training questions are insincere.\")"
   ]
  },
  {
   "cell_type": "markdown",
   "id": "5b1c96fb",
   "metadata": {},
   "source": [
    "We note from this that the <b>data set is highly imbalanced</b> so it makes sense to utilise the F1-score metric."
   ]
  },
  {
   "cell_type": "code",
   "execution_count": 59,
   "id": "f71e499d",
   "metadata": {},
   "outputs": [
    {
     "data": {
      "text/plain": [
       "<AxesSubplot:xlabel='target', ylabel='count'>"
      ]
     },
     "execution_count": 59,
     "metadata": {},
     "output_type": "execute_result"
    },
    {
     "data": {
      "image/png": "[encoded data removed]",
      "text/plain": [
       "<Figure size 432x288 with 1 Axes>"
      ]
     },
     "metadata": {
      "needs_background": "light"
     },
     "output_type": "display_data"
    }
   ],
   "source": [
    "# Graph sincere vs insincere qs\n",
    "sns.countplot(x = df_train['target'])"
   ]
  },
  {
   "cell_type": "markdown",
   "id": "4fb47e16",
   "metadata": {},
   "source": [
    "## Feature Engineering\n",
    "\n",
    "We can perform some feature engineering by adding some meta-features to our data.\n",
    "We can begin by adding the features mentioned in the Guideline"
   ]
  },
  {
   "cell_type": "markdown",
   "id": "894209cf",
   "metadata": {},
   "source": [
    "### 1. Number of Total Words"
   ]
  },
  {
   "cell_type": "code",
   "execution_count": 60,
   "id": "bf475937",
   "metadata": {},
   "outputs": [],
   "source": [
    "X_train['totalWords'] = [len(x.split()) for x in df['question_text'].tolist()]"
   ]
  },
  {
   "cell_type": "code",
   "execution_count": 61,
   "id": "5ad67ea9",
   "metadata": {},
   "outputs": [
    {
     "data": {
      "text/html": [
       "<div>\n",
       "<style scoped>\n",
       "    .dataframe tbody tr th:only-of-type {\n",
       "        vertical-align: middle;\n",
       "    }\n",
       "\n",
       "    .dataframe tbody tr th {\n",
       "        vertical-align: top;\n",
       "    }\n",
       "\n",
       "    .dataframe thead th {\n",
       "        text-align: right;\n",
       "    }\n",
       "</style>\n",
       "<table border=\"1\" class=\"dataframe\">\n",
       "  <thead>\n",
       "    <tr style=\"text-align: right;\">\n",
       "      <th></th>\n",
       "      <th>qid</th>\n",
       "      <th>question_text</th>\n",
       "      <th>totalWords</th>\n",
       "    </tr>\n",
       "  </thead>\n",
       "  <tbody>\n",
       "    <tr>\n",
       "      <th>0</th>\n",
       "      <td>00002165364db923c7e6</td>\n",
       "      <td>How did Quebec nationalists see their province...</td>\n",
       "      <td>13</td>\n",
       "    </tr>\n",
       "    <tr>\n",
       "      <th>1</th>\n",
       "      <td>000032939017120e6e44</td>\n",
       "      <td>Do you have an adopted dog, how would you enco...</td>\n",
       "      <td>16</td>\n",
       "    </tr>\n",
       "    <tr>\n",
       "      <th>2</th>\n",
       "      <td>0000412ca6e4628ce2cf</td>\n",
       "      <td>Why does velocity affect time? Does velocity a...</td>\n",
       "      <td>10</td>\n",
       "    </tr>\n",
       "    <tr>\n",
       "      <th>3</th>\n",
       "      <td>000042bf85aa498cd78e</td>\n",
       "      <td>How did Otto von Guericke used the Magdeburg h...</td>\n",
       "      <td>9</td>\n",
       "    </tr>\n",
       "    <tr>\n",
       "      <th>4</th>\n",
       "      <td>0000455dfa3e01eae3af</td>\n",
       "      <td>Can I convert montra helicon D to a mountain b...</td>\n",
       "      <td>15</td>\n",
       "    </tr>\n",
       "  </tbody>\n",
       "</table>\n",
       "</div>"
      ],
      "text/plain": [
       "                    qid                                      question_text  \\\n",
       "0  00002165364db923c7e6  How did Quebec nationalists see their province...   \n",
       "1  000032939017120e6e44  Do you have an adopted dog, how would you enco...   \n",
       "2  0000412ca6e4628ce2cf  Why does velocity affect time? Does velocity a...   \n",
       "3  000042bf85aa498cd78e  How did Otto von Guericke used the Magdeburg h...   \n",
       "4  0000455dfa3e01eae3af  Can I convert montra helicon D to a mountain b...   \n",
       "\n",
       "   totalWords  \n",
       "0          13  \n",
       "1          16  \n",
       "2          10  \n",
       "3           9  \n",
       "4          15  "
      ]
     },
     "execution_count": 61,
     "metadata": {},
     "output_type": "execute_result"
    }
   ],
   "source": [
    "X_train.head()"
   ]
  },
  {
   "cell_type": "markdown",
   "id": "82752c8d",
   "metadata": {},
   "source": [
    "### 2. Number of Numbers"
   ]
  },
  {
   "cell_type": "code",
   "execution_count": null,
   "id": "ba14fa21",
   "metadata": {},
   "outputs": [],
   "source": []
  }
 ],
 "metadata": {
  "kernelspec": {
   "display_name": "Python 3",
   "language": "python",
   "name": "python3"
  },
  "language_info": {
   "codemirror_mode": {
    "name": "ipython",
    "version": 3
   },
   "file_extension": ".py",
   "mimetype": "text/x-python",
   "name": "python",
   "nbconvert_exporter": "python",
   "pygments_lexer": "ipython3",
   "version": "3.8.8"
  }
 },
 "nbformat": 4,
 "nbformat_minor": 5
}
